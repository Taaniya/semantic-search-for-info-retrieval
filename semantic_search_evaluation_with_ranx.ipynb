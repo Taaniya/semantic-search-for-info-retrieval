{
  "nbformat": 4,
  "nbformat_minor": 0,
  "metadata": {
    "colab": {
      "provenance": [],
      "mount_file_id": "1b_SOZQ57i8ipXa7DmZ1k1iNsemfdnqhO",
      "authorship_tag": "ABX9TyP8vm98Q6SvHJf6hfXW+45W",
      "include_colab_link": true
    },
    "kernelspec": {
      "name": "python3",
      "display_name": "Python 3"
    },
    "language_info": {
      "name": "python"
    }
  },
  "cells": [
    {
      "cell_type": "markdown",
      "metadata": {
        "id": "view-in-github",
        "colab_type": "text"
      },
      "source": [
        "<a href=\"https://colab.research.google.com/github/Taaniya/semantic-search-for-info-retrieval/blob/main/semantic_search_evaluation_with_ranx.ipynb\" target=\"_parent\"><img src=\"https://colab.research.google.com/assets/colab-badge.svg\" alt=\"Open In Colab\"/></a>"
      ]
    },
    {
      "cell_type": "code",
      "execution_count": null,
      "metadata": {
        "id": "epM7ictf_uEi"
      },
      "outputs": [],
      "source": [
        "! pip install ranx"
      ]
    },
    {
      "cell_type": "code",
      "source": [
        "! ls ./drive/MyDrive/Colab\\ Notebooks/NLP_exploration/QA_on_docs/"
      ],
      "metadata": {
        "colab": {
          "base_uri": "https://localhost:8080/"
        },
        "id": "wLFopA2r_5ud",
        "outputId": "abe07e4d-9520-4cbb-f04e-255d6bb321b7"
      },
      "execution_count": 7,
      "outputs": [
        {
          "output_type": "stream",
          "name": "stdout",
          "text": [
            "Explore_BERT.ipynb\n",
            "Exploring_Flan_T5_with_langchain.ipynb\n",
            "Finetuning_bert_for_semantic_search_with_SBERT_approach.ipynb\n",
            "knowledge_doc.pdf\n",
            "qa_on_docs_with_flan_t5.ipynb\n",
            "qrels_v2.xlsx\n",
            "run.xlsx\n",
            "Semantic_search_comparison_with_FAISS_standalone_vs_via_Langchain.ipynb\n",
            "sentence_embeddings_with_BERT.ipynb\n",
            "Untitled0.ipynb\n"
          ]
        }
      ]
    },
    {
      "cell_type": "code",
      "source": [
        "import pandas as pd\n",
        "import json\n",
        "\n",
        "from ranx.metrics.f1 import _f1_parallel, _f1, f1\n",
        "from ranx import Qrels, Run, evaluate\n"
      ],
      "metadata": {
        "id": "gStZ46YBAd5j"
      },
      "execution_count": 13,
      "outputs": []
    },
    {
      "cell_type": "code",
      "source": [
        "qrels_path = \"./drive/MyDrive/Colab Notebooks/NLP_exploration/QA_on_docs/qrels_v2.xlsx\"\n",
        "preds_run_path = \"./drive/MyDrive/Colab Notebooks/NLP_exploration/QA_on_docs/run.xlsx\""
      ],
      "metadata": {
        "id": "6ABvzESk_1vC"
      },
      "execution_count": 14,
      "outputs": []
    },
    {
      "cell_type": "code",
      "source": [
        "qrels_df = pd.read_excel(qrels_path)\n",
        "run_df = pd.read_excel(preds_run_path)"
      ],
      "metadata": {
        "id": "jpumG42h_wmv"
      },
      "execution_count": 15,
      "outputs": []
    },
    {
      "cell_type": "code",
      "source": [
        "# drop rows where there is no doc_id for a query\n",
        "run_df = run_df.dropna(subset=['doc_id'])\n",
        "\n",
        "# cast doc_id to int\n",
        "run_df['doc_id'] = run_df['doc_id'].astype('int')\n",
        "\n",
        "qrels_df['doc_id'] = 'd_' + qrels_df['doc_id'].astype(str)\n",
        "run_df['doc_id'] = 'd_' + run_df['doc_id'].astype(str)\n",
        "\n",
        "# cast q_id columns to string type\n",
        "qrels_df['q_id'] = qrels_df['q_id'].astype(str)\n",
        "run_df['q_id'] = run_df['q_id'].astype(str)"
      ],
      "metadata": {
        "colab": {
          "base_uri": "https://localhost:8080/"
        },
        "id": "miiQsOOPAh5l",
        "outputId": "49cbe9ce-0b62-4429-acde-0a0d9085744a"
      },
      "execution_count": 16,
      "outputs": [
        {
          "output_type": "stream",
          "name": "stderr",
          "text": [
            "<ipython-input-16-9ad9bd6a9bc7>:5: SettingWithCopyWarning: \n",
            "A value is trying to be set on a copy of a slice from a DataFrame.\n",
            "Try using .loc[row_indexer,col_indexer] = value instead\n",
            "\n",
            "See the caveats in the documentation: https://pandas.pydata.org/pandas-docs/stable/user_guide/indexing.html#returning-a-view-versus-a-copy\n",
            "  run_df['doc_id'] = run_df['doc_id'].astype('int')\n"
          ]
        }
      ]
    },
    {
      "cell_type": "code",
      "source": [
        "# Create qrels object\n",
        "qrels = Qrels.from_df( df=qrels_df,  q_id_col=\"q_id\", doc_id_col=\"doc_id\")\n",
        "\n",
        "# Create run object\n",
        "run = Run.from_df(df=run_df,\n",
        "                  q_id_col=\"q_id\",\n",
        "                  doc_id_col=\"doc_id\",\n",
        "                  score_col=\"cosine_similarity\")"
      ],
      "metadata": {
        "id": "vr2XCqhrAlAw"
      },
      "execution_count": 17,
      "outputs": []
    },
    {
      "cell_type": "code",
      "source": [
        "# perform evaluation\n",
        "score_dict = evaluate(qrels, run, [\"mrr\", \"mrr@1\", \"mrr@2\", \"recall@1\", \"recall@2\", \"precision@1\", \"f1@1\", \"hits@1\"])\n",
        "\n",
        "for k,v in score_dict.items():\n",
        "  print(f\"{k}: {v}\")"
      ],
      "metadata": {
        "colab": {
          "base_uri": "https://localhost:8080/"
        },
        "id": "od-qskPJAtww",
        "outputId": "5e249cdb-82a1-4f91-d672-8248b2887c8c"
      },
      "execution_count": 26,
      "outputs": [
        {
          "output_type": "stream",
          "name": "stdout",
          "text": [
            "mrr: 0.9629629629629629\n",
            "mrr@1: 0.9444444444444444\n",
            "mrr@2: 0.9444444444444444\n",
            "recall@1: 0.9444444444444444\n",
            "recall@2: 0.9444444444444444\n",
            "precision@1: 0.9444444444444444\n",
            "f1@1: 0.7777777777777778\n",
            "hits@1: 0.9444444444444444\n"
          ]
        }
      ]
    },
    {
      "cell_type": "code",
      "source": [
        "# pretty print scores\n",
        "print(json.dumps(run.scores, indent=4))"
      ],
      "metadata": {
        "colab": {
          "base_uri": "https://localhost:8080/"
        },
        "id": "H2GGzwAlAvNN",
        "outputId": "017c73d2-51f5-4e78-acb3-d4ce9327ef29"
      },
      "execution_count": 19,
      "outputs": [
        {
          "output_type": "stream",
          "name": "stdout",
          "text": [
            "{\n",
            "    \"mrr\": {\n",
            "        \"0\": 1.0,\n",
            "        \"1\": 1.0,\n",
            "        \"10\": 1.0,\n",
            "        \"11\": 1.0,\n",
            "        \"12\": 1.0,\n",
            "        \"13\": 1.0,\n",
            "        \"14\": 1.0,\n",
            "        \"15\": 1.0,\n",
            "        \"16\": 1.0,\n",
            "        \"17\": 1.0,\n",
            "        \"2\": 1.0,\n",
            "        \"3\": 1.0,\n",
            "        \"4\": 1.0,\n",
            "        \"5\": 1.0,\n",
            "        \"6\": 0.3333333333333333,\n",
            "        \"7\": 1.0,\n",
            "        \"8\": 1.0,\n",
            "        \"9\": 1.0\n",
            "    },\n",
            "    \"mrr@1\": {\n",
            "        \"0\": 1.0,\n",
            "        \"1\": 1.0,\n",
            "        \"10\": 1.0,\n",
            "        \"11\": 1.0,\n",
            "        \"12\": 1.0,\n",
            "        \"13\": 1.0,\n",
            "        \"14\": 1.0,\n",
            "        \"15\": 1.0,\n",
            "        \"16\": 1.0,\n",
            "        \"17\": 1.0,\n",
            "        \"2\": 1.0,\n",
            "        \"3\": 1.0,\n",
            "        \"4\": 1.0,\n",
            "        \"5\": 1.0,\n",
            "        \"6\": 0.0,\n",
            "        \"7\": 1.0,\n",
            "        \"8\": 1.0,\n",
            "        \"9\": 1.0\n",
            "    },\n",
            "    \"mrr@2\": {\n",
            "        \"0\": 1.0,\n",
            "        \"1\": 1.0,\n",
            "        \"10\": 1.0,\n",
            "        \"11\": 1.0,\n",
            "        \"12\": 1.0,\n",
            "        \"13\": 1.0,\n",
            "        \"14\": 1.0,\n",
            "        \"15\": 1.0,\n",
            "        \"16\": 1.0,\n",
            "        \"17\": 1.0,\n",
            "        \"2\": 1.0,\n",
            "        \"3\": 1.0,\n",
            "        \"4\": 1.0,\n",
            "        \"5\": 1.0,\n",
            "        \"6\": 0.0,\n",
            "        \"7\": 1.0,\n",
            "        \"8\": 1.0,\n",
            "        \"9\": 1.0\n",
            "    },\n",
            "    \"recall@1\": {\n",
            "        \"0\": 1.0,\n",
            "        \"1\": 1.0,\n",
            "        \"10\": 1.0,\n",
            "        \"11\": 1.0,\n",
            "        \"12\": 1.0,\n",
            "        \"13\": 1.0,\n",
            "        \"14\": 1.0,\n",
            "        \"15\": 1.0,\n",
            "        \"16\": 1.0,\n",
            "        \"17\": 1.0,\n",
            "        \"2\": 1.0,\n",
            "        \"3\": 1.0,\n",
            "        \"4\": 1.0,\n",
            "        \"5\": 1.0,\n",
            "        \"6\": 0.0,\n",
            "        \"7\": 1.0,\n",
            "        \"8\": 1.0,\n",
            "        \"9\": 1.0\n",
            "    },\n",
            "    \"recall@2\": {\n",
            "        \"0\": 1.0,\n",
            "        \"1\": 1.0,\n",
            "        \"10\": 1.0,\n",
            "        \"11\": 1.0,\n",
            "        \"12\": 1.0,\n",
            "        \"13\": 1.0,\n",
            "        \"14\": 1.0,\n",
            "        \"15\": 1.0,\n",
            "        \"16\": 1.0,\n",
            "        \"17\": 1.0,\n",
            "        \"2\": 1.0,\n",
            "        \"3\": 1.0,\n",
            "        \"4\": 1.0,\n",
            "        \"5\": 1.0,\n",
            "        \"6\": 0.0,\n",
            "        \"7\": 1.0,\n",
            "        \"8\": 1.0,\n",
            "        \"9\": 1.0\n",
            "    },\n",
            "    \"precision@1\": {\n",
            "        \"0\": 1.0,\n",
            "        \"1\": 1.0,\n",
            "        \"10\": 1.0,\n",
            "        \"11\": 1.0,\n",
            "        \"12\": 1.0,\n",
            "        \"13\": 1.0,\n",
            "        \"14\": 1.0,\n",
            "        \"15\": 1.0,\n",
            "        \"16\": 1.0,\n",
            "        \"17\": 1.0,\n",
            "        \"2\": 1.0,\n",
            "        \"3\": 1.0,\n",
            "        \"4\": 1.0,\n",
            "        \"5\": 1.0,\n",
            "        \"6\": 0.0,\n",
            "        \"7\": 1.0,\n",
            "        \"8\": 1.0,\n",
            "        \"9\": 1.0\n",
            "    },\n",
            "    \"f1@1\": {\n",
            "        \"0\": 1.0,\n",
            "        \"1\": 1.0,\n",
            "        \"10\": 1.0,\n",
            "        \"11\": 1.0,\n",
            "        \"12\": 1.0,\n",
            "        \"13\": 1.0,\n",
            "        \"14\": 1.0,\n",
            "        \"15\": 1.0,\n",
            "        \"16\": 1.0,\n",
            "        \"17\": 1.0,\n",
            "        \"2\": 1.0,\n",
            "        \"3\": 1.0,\n",
            "        \"4\": 1.0,\n",
            "        \"5\": 1.0,\n",
            "        \"6\": 0.0,\n",
            "        \"7\": 0.0,\n",
            "        \"8\": 0.0,\n",
            "        \"9\": 0.0\n",
            "    },\n",
            "    \"hits@1\": {\n",
            "        \"0\": 1.0,\n",
            "        \"1\": 1.0,\n",
            "        \"10\": 1.0,\n",
            "        \"11\": 1.0,\n",
            "        \"12\": 1.0,\n",
            "        \"13\": 1.0,\n",
            "        \"14\": 1.0,\n",
            "        \"15\": 1.0,\n",
            "        \"16\": 1.0,\n",
            "        \"17\": 1.0,\n",
            "        \"2\": 1.0,\n",
            "        \"3\": 1.0,\n",
            "        \"4\": 1.0,\n",
            "        \"5\": 1.0,\n",
            "        \"6\": 0.0,\n",
            "        \"7\": 1.0,\n",
            "        \"8\": 1.0,\n",
            "        \"9\": 1.0\n",
            "    }\n",
            "}\n"
          ]
        }
      ]
    },
    {
      "cell_type": "code",
      "source": [
        "qrels_df.count()"
      ],
      "metadata": {
        "colab": {
          "base_uri": "https://localhost:8080/"
        },
        "id": "ECjDYAYfA4mN",
        "outputId": "b47a537d-e9d4-481d-d6c6-6369dbae4d2c"
      },
      "execution_count": 20,
      "outputs": [
        {
          "output_type": "execute_result",
          "data": {
            "text/plain": [
              "q_id      18\n",
              "doc_id    18\n",
              "score     18\n",
              "dtype: int64"
            ]
          },
          "metadata": {},
          "execution_count": 20
        }
      ]
    },
    {
      "cell_type": "code",
      "source": [
        "run_df.count()"
      ],
      "metadata": {
        "colab": {
          "base_uri": "https://localhost:8080/"
        },
        "id": "MKPB0iz4A6f_",
        "outputId": "4807939e-8469-48dd-a234-f7d6bb5879e0"
      },
      "execution_count": 21,
      "outputs": [
        {
          "output_type": "execute_result",
          "data": {
            "text/plain": [
              "q_id                 29\n",
              "doc_id               29\n",
              "cosine_similarity    29\n",
              "dtype: int64"
            ]
          },
          "metadata": {},
          "execution_count": 21
        }
      ]
    },
    {
      "cell_type": "code",
      "source": [
        "# convert qrels and run object to numba typed list to call functions f1, _f1, _f1_parallel\n",
        "\n",
        "_qrels = qrels.to_typed_list()\n",
        "_run = run.to_typed_list()"
      ],
      "metadata": {
        "id": "kCPZ9jx5AwUq"
      },
      "execution_count": 22,
      "outputs": []
    },
    {
      "cell_type": "code",
      "source": [
        "print(f1(_qrels, _run, 1, 1))"
      ],
      "metadata": {
        "colab": {
          "base_uri": "https://localhost:8080/"
        },
        "id": "8zwh76dPBOjE",
        "outputId": "7ff0d50e-aae8-4108-81de-face7d2709c6"
      },
      "execution_count": 28,
      "outputs": [
        {
          "output_type": "stream",
          "name": "stdout",
          "text": [
            "[1. 1. 1. 1. 1. 1. 1. 1. 1. 1. 1. 1. 1. 1. 0. 0. 0. 0.]\n"
          ]
        }
      ]
    },
    {
      "cell_type": "code",
      "source": [
        "print(_f1_parallel(_qrels, _run, 1 , 1))"
      ],
      "metadata": {
        "colab": {
          "base_uri": "https://localhost:8080/"
        },
        "id": "6bkn9j19BlaC",
        "outputId": "c9a66ff4-6ac0-4f09-f3d1-1e12e195e2de"
      },
      "execution_count": 29,
      "outputs": [
        {
          "output_type": "stream",
          "name": "stdout",
          "text": [
            "[1. 1. 1. 1. 1. 1. 1. 1. 1. 1. 1. 1. 1. 1. 0. 0. 0. 0.]\n"
          ]
        }
      ]
    },
    {
      "cell_type": "code",
      "source": [
        "scores = []\n",
        "\n",
        "for i in range(len(_qrels)):\n",
        "  try:\n",
        "      scores.append(_f1(_qrels[i], _run[i], 1 , 1))\n",
        "  except Exception as error:\n",
        "    # print division by zero exception\n",
        "    print(f\" {i} An exception occurred:\", error)\n",
        "    scores.append(0)\n",
        "    continue"
      ],
      "metadata": {
        "colab": {
          "base_uri": "https://localhost:8080/"
        },
        "id": "Zd72FVs1Csjs",
        "outputId": "7998c5ec-a342-4883-fdac-c4f5fe7a125e"
      },
      "execution_count": 30,
      "outputs": [
        {
          "output_type": "stream",
          "name": "stdout",
          "text": [
            " 14 An exception occurred: division by zero\n"
          ]
        }
      ]
    },
    {
      "cell_type": "code",
      "source": [
        "scores"
      ],
      "metadata": {
        "colab": {
          "base_uri": "https://localhost:8080/"
        },
        "id": "RKw38WZwC2Ci",
        "outputId": "5e0b750d-972b-4083-a5f7-5506bcc973c3"
      },
      "execution_count": 31,
      "outputs": [
        {
          "output_type": "execute_result",
          "data": {
            "text/plain": [
              "[1.0,\n",
              " 1.0,\n",
              " 1.0,\n",
              " 1.0,\n",
              " 1.0,\n",
              " 1.0,\n",
              " 1.0,\n",
              " 1.0,\n",
              " 1.0,\n",
              " 1.0,\n",
              " 1.0,\n",
              " 1.0,\n",
              " 1.0,\n",
              " 1.0,\n",
              " 0,\n",
              " 1.0,\n",
              " 1.0,\n",
              " 1.0]"
            ]
          },
          "metadata": {},
          "execution_count": 31
        }
      ]
    }
  ]
}