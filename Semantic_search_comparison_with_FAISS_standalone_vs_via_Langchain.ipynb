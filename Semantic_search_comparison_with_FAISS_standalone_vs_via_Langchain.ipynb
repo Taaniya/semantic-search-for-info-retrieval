{
  "cells": [
    {
      "cell_type": "markdown",
      "source": [
        "This notebook explores search results and similarity score based on different index used for storing text document embeddings by FAISS from original library vs FAISS vectorstore available integrated with Langchain"
      ],
      "metadata": {
        "id": "OWKjKjpW2WeW"
      },
      "id": "OWKjKjpW2WeW"
    },
    {
      "cell_type": "code",
      "source": [
        "! pip install langchain faiss-cpu sentence-transformers scipy==1.8.0"
      ],
      "metadata": {
        "id": "gSCldHlj2U1D"
      },
      "id": "gSCldHlj2U1D",
      "execution_count": null,
      "outputs": []
    },
    {
      "cell_type": "code",
      "execution_count": 2,
      "id": "77b047c7",
      "metadata": {
        "id": "77b047c7"
      },
      "outputs": [],
      "source": [
        "from langchain.embeddings import SentenceTransformerEmbeddings\n",
        "from langchain.vectorstores import FAISS\n",
        "import faiss\n",
        "\n",
        "import numpy as np\n",
        "from numpy.linalg import norm\n",
        "from scipy import spatial"
      ]
    },
    {
      "cell_type": "code",
      "execution_count": 3,
      "id": "fc47b924",
      "metadata": {
        "scrolled": true,
        "id": "fc47b924"
      },
      "outputs": [],
      "source": [
        "sentence_encoder = SentenceTransformerEmbeddings(model_name='all-mpnet-base-v2')"
      ]
    },
    {
      "cell_type": "code",
      "execution_count": 4,
      "id": "4b38441f",
      "metadata": {
        "id": "4b38441f"
      },
      "outputs": [],
      "source": [
        "text_A = \"The cat is sitting outside the house\"\n",
        "text_B = \"A woman is playing guitar in the auditorium\"\n",
        "query = \"girl with music instrument\""
      ]
    },
    {
      "cell_type": "markdown",
      "id": "67efae6e",
      "metadata": {
        "id": "67efae6e"
      },
      "source": [
        "### Using cosine similarity in Python"
      ]
    },
    {
      "cell_type": "code",
      "execution_count": 5,
      "id": "452b4bb4",
      "metadata": {
        "id": "452b4bb4"
      },
      "outputs": [],
      "source": [
        "# define two lists or array\n",
        "\n",
        "sent_A_emb = sentence_encoder.embed_query(text_A)\n",
        "sent_B_emb = sentence_encoder.embed_query(text_B)\n",
        "query_emb = sentence_encoder.embed_query(query)"
      ]
    },
    {
      "cell_type": "code",
      "execution_count": 6,
      "id": "98971dcb",
      "metadata": {
        "scrolled": true,
        "colab": {
          "base_uri": "https://localhost:8080/"
        },
        "id": "98971dcb",
        "outputId": "f79d3062-5829-4465-aee6-8dd221ed4ff0"
      },
      "outputs": [
        {
          "output_type": "stream",
          "name": "stdout",
          "text": [
            "Cosine Distance between query and A: 1.0357309680895828\n",
            "Cosine Distance between query and B: 0.6514501500416301\n"
          ]
        }
      ],
      "source": [
        " # compute cosine similarity\n",
        "cosine_distance = 1 - np.dot(sent_A_emb, query_emb)/(norm(sent_A_emb)*norm(query_emb))\n",
        "print(\"Cosine Distance between query and A:\", cosine_distance)\n",
        "\n",
        "cosine_distance = 1 - np.dot(query_emb,sent_B_emb)/(norm(query_emb)*norm(sent_B_emb))\n",
        "print(\"Cosine Distance between query and B:\", cosine_distance)"
      ]
    },
    {
      "cell_type": "markdown",
      "id": "15bdc5e7",
      "metadata": {
        "id": "15bdc5e7"
      },
      "source": [
        "### Using FAISS standalone with Inner Product based index"
      ]
    },
    {
      "cell_type": "code",
      "execution_count": 7,
      "id": "32542249",
      "metadata": {
        "id": "32542249"
      },
      "outputs": [],
      "source": [
        "# dimension of sentence embeddings\n",
        "\n",
        "dim = len(sent_A_emb)"
      ]
    },
    {
      "cell_type": "code",
      "execution_count": 8,
      "id": "5dfa0267",
      "metadata": {
        "id": "5dfa0267"
      },
      "outputs": [],
      "source": [
        "# Using the index type supporting inner product (IP)\n",
        "\n",
        "faiss_index = faiss.IndexFlatIP(dim)"
      ]
    },
    {
      "cell_type": "code",
      "execution_count": 9,
      "id": "3cc53968",
      "metadata": {
        "colab": {
          "base_uri": "https://localhost:8080/"
        },
        "id": "3cc53968",
        "outputId": "180be5bd-8e1e-4fa6-815a-513bb7ddd8d8"
      },
      "outputs": [
        {
          "output_type": "execute_result",
          "data": {
            "text/plain": [
              "True"
            ]
          },
          "metadata": {},
          "execution_count": 9
        }
      ],
      "source": [
        "faiss_index.is_trained"
      ]
    },
    {
      "cell_type": "markdown",
      "id": "adee7614",
      "metadata": {
        "id": "adee7614"
      },
      "source": [
        "Convert the embeddings into numpy arrays and normalize them"
      ]
    },
    {
      "cell_type": "code",
      "execution_count": 10,
      "id": "9a729f8e",
      "metadata": {
        "id": "9a729f8e"
      },
      "outputs": [],
      "source": [
        "arr = np.array(sent_A_emb)\n",
        "arr_emb_a = np.reshape(arr, (1,768))\n",
        "norm = np.linalg.norm(arr_emb_a)\n",
        "norm_emb_a = arr_emb_a / norm\n",
        "\n",
        "arr = np.array(sent_B_emb)\n",
        "arr_emb_b = np.reshape(arr, (1,768))\n",
        "norm = np.linalg.norm(arr_emb_b)\n",
        "norm_emb_b = arr_emb_b / norm\n",
        "\n",
        "arr = np.array(query_emb)\n",
        "arr_emb_query = np.reshape(arr, (1,768))\n",
        "norm = np.linalg.norm(arr_emb_query)\n",
        "norm_emb_query = arr_emb_query / norm\n"
      ]
    },
    {
      "cell_type": "code",
      "execution_count": 11,
      "id": "ce57937b",
      "metadata": {
        "scrolled": true,
        "colab": {
          "base_uri": "https://localhost:8080/"
        },
        "id": "ce57937b",
        "outputId": "12347afc-c704-41f1-fbf0-4165f6b3dd71"
      },
      "outputs": [
        {
          "output_type": "execute_result",
          "data": {
            "text/plain": [
              "array([-0.03011965,  0.00670151,  0.00719493, -0.04349164,  0.02373334,\n",
              "       -0.01662551])"
            ]
          },
          "metadata": {},
          "execution_count": 11
        }
      ],
      "source": [
        "arr_emb_a[0][:6]"
      ]
    },
    {
      "cell_type": "code",
      "execution_count": 12,
      "id": "f9e713bf",
      "metadata": {
        "colab": {
          "base_uri": "https://localhost:8080/"
        },
        "id": "f9e713bf",
        "outputId": "e21dc411-1ae9-4c4d-d469-10b625b9e530"
      },
      "outputs": [
        {
          "output_type": "execute_result",
          "data": {
            "text/plain": [
              "array([-0.03011965,  0.00670151,  0.00719493, -0.04349164,  0.02373334,\n",
              "       -0.01662551])"
            ]
          },
          "metadata": {},
          "execution_count": 12
        }
      ],
      "source": [
        "norm_emb_a[0][:6]"
      ]
    },
    {
      "cell_type": "code",
      "execution_count": 13,
      "id": "e63147d2",
      "metadata": {
        "colab": {
          "base_uri": "https://localhost:8080/"
        },
        "id": "e63147d2",
        "outputId": "09fcd22d-d9f9-488d-cce2-363be758ecf9"
      },
      "outputs": [
        {
          "output_type": "execute_result",
          "data": {
            "text/plain": [
              "True"
            ]
          },
          "metadata": {},
          "execution_count": 13
        }
      ],
      "source": [
        "# The embeddings by sentence transformer model are already normalized\n",
        "\n",
        "np.allclose(norm_emb_a, arr_emb_a)"
      ]
    },
    {
      "cell_type": "code",
      "execution_count": 14,
      "id": "ec1f3995",
      "metadata": {
        "colab": {
          "base_uri": "https://localhost:8080/"
        },
        "id": "ec1f3995",
        "outputId": "e483f525-e816-42ef-975c-ff5dcf846ec8"
      },
      "outputs": [
        {
          "output_type": "execute_result",
          "data": {
            "text/plain": [
              "1.0000000289648816"
            ]
          },
          "metadata": {},
          "execution_count": 14
        }
      ],
      "source": [
        "norm"
      ]
    },
    {
      "cell_type": "code",
      "execution_count": 25,
      "id": "18444df6",
      "metadata": {
        "id": "18444df6"
      },
      "outputs": [],
      "source": [
        "# Stack the 2 sentence embeddings into a 2D Numpy array\n",
        "\n",
        "doc_embeddings = np.vstack((norm_emb_a, norm_emb_b))\n",
        "# doc_embeddings = np.vstack((arr_emb_a, arr_emb_b))"
      ]
    },
    {
      "cell_type": "code",
      "execution_count": 16,
      "id": "f9de364e",
      "metadata": {
        "id": "f9de364e"
      },
      "outputs": [],
      "source": [
        "# Add embeddings in the index\n",
        "\n",
        "faiss_index.add(doc_embeddings)"
      ]
    },
    {
      "cell_type": "code",
      "execution_count": 17,
      "id": "db50fb48",
      "metadata": {
        "scrolled": false,
        "colab": {
          "base_uri": "https://localhost:8080/"
        },
        "id": "db50fb48",
        "outputId": "451a050e-b7cf-4c70-cf58-b8350274a2df"
      },
      "outputs": [
        {
          "output_type": "execute_result",
          "data": {
            "text/plain": [
              "2"
            ]
          },
          "metadata": {},
          "execution_count": 17
        }
      ],
      "source": [
        "# No. of docs in the index\n",
        "\n",
        "faiss_index.ntotal"
      ]
    },
    {
      "cell_type": "code",
      "execution_count": 26,
      "id": "312ee303",
      "metadata": {
        "id": "312ee303"
      },
      "outputs": [],
      "source": [
        "search_results = faiss_index.search(norm_emb_query, 2)\n",
        "\n",
        "# search_results = faiss_index.search(arr_emb_query, 2)"
      ]
    },
    {
      "cell_type": "code",
      "execution_count": 35,
      "id": "d87aaedc",
      "metadata": {
        "colab": {
          "base_uri": "https://localhost:8080/"
        },
        "id": "d87aaedc",
        "outputId": "eb371705-e8e6-4332-81d8-d5abb8997306"
      },
      "outputs": [
        {
          "output_type": "execute_result",
          "data": {
            "text/plain": [
              "(array([[ 0.34854984, -0.03573097]], dtype=float32), array([[1, 0]]))"
            ]
          },
          "metadata": {},
          "execution_count": 35
        }
      ],
      "source": [
        "# The result is K nearest neighbours with their cosine similarity between each document with the query vector.\n",
        "# The 2nd array in the result specifies the index of the neighbour in the original doc embeddings array\n",
        "\n",
        "search_results"
      ]
    },
    {
      "cell_type": "code",
      "execution_count": 38,
      "id": "8ce03741",
      "metadata": {
        "scrolled": true,
        "colab": {
          "base_uri": "https://localhost:8080/"
        },
        "id": "8ce03741",
        "outputId": "ce98feea-1367-452d-b4cb-1e55a733bc55"
      },
      "outputs": [
        {
          "output_type": "stream",
          "name": "stdout",
          "text": [
            "Cosine similarity between A and query:-0.03573096808958276\n"
          ]
        }
      ],
      "source": [
        "# cosine similarity tallying above result\n",
        "\n",
        "result = 1 - spatial.distance.cosine(norm_emb_a, norm_emb_query)\n",
        "print('Cosine similarity between A and query:{}'.format(result))"
      ]
    },
    {
      "cell_type": "code",
      "execution_count": 39,
      "id": "a320a7ad",
      "metadata": {
        "colab": {
          "base_uri": "https://localhost:8080/"
        },
        "id": "a320a7ad",
        "outputId": "6b4d3105-6335-4e36-dd54-3e1ad5f59ecb"
      },
      "outputs": [
        {
          "output_type": "stream",
          "name": "stdout",
          "text": [
            "Cosine similarity between B and query:0.34854984995837\n"
          ]
        }
      ],
      "source": [
        "result = 1 - spatial.distance.cosine(norm_emb_b, norm_emb_query)\n",
        "print('Cosine similarity between B and query:{}'.format(result))"
      ]
    },
    {
      "cell_type": "markdown",
      "id": "924fb7d4",
      "metadata": {
        "id": "924fb7d4"
      },
      "source": [
        "#### Using FAISS's default similarity score L2 norm from Langchain"
      ]
    },
    {
      "cell_type": "code",
      "execution_count": 43,
      "id": "471b0edf",
      "metadata": {
        "id": "471b0edf"
      },
      "outputs": [],
      "source": [
        "faiss_db = FAISS.from_texts([text_A, text_B], sentence_encoder)"
      ]
    },
    {
      "cell_type": "code",
      "execution_count": 44,
      "id": "8f6886c8",
      "metadata": {
        "scrolled": false,
        "colab": {
          "base_uri": "https://localhost:8080/"
        },
        "id": "8f6886c8",
        "outputId": "6ee6cf9d-5b5b-4c6a-9a3d-5988f2d1b029"
      },
      "outputs": [
        {
          "output_type": "execute_result",
          "data": {
            "text/plain": [
              "[(Document(page_content='A woman is playing guitar in the auditorium', metadata={}),\n",
              "  1.3029001),\n",
              " (Document(page_content='The cat is sitting outside the house', metadata={}),\n",
              "  2.0714622)]"
            ]
          },
          "metadata": {},
          "execution_count": 44
        }
      ],
      "source": [
        "search_result_docs = faiss_db.similarity_search_with_score(query=query, k=2)\n",
        "search_result_docs"
      ]
    },
    {
      "cell_type": "code",
      "execution_count": 45,
      "id": "a3aea850",
      "metadata": {
        "scrolled": true,
        "colab": {
          "base_uri": "https://localhost:8080/"
        },
        "id": "a3aea850",
        "outputId": "c1b571ca-c627-4a13-afb1-e29fdaea6f3d"
      },
      "outputs": [
        {
          "output_type": "execute_result",
          "data": {
            "text/plain": [
              "[(Document(page_content='A woman is playing guitar in the auditorium', metadata={}),\n",
              "  0.07871052111382104),\n",
              " (Document(page_content='The cat is sitting outside the house', metadata={}),\n",
              "  -0.4647449363393521)]"
            ]
          },
          "metadata": {},
          "execution_count": 45
        }
      ],
      "source": [
        "search_result_docs = faiss_db.similarity_search_with_relevance_scores(query=query, k=2)\n",
        "search_result_docs"
      ]
    },
    {
      "cell_type": "markdown",
      "id": "282f71a5",
      "metadata": {
        "id": "282f71a5"
      },
      "source": [
        "### Using FAISS standalone with L2 distance based index"
      ]
    },
    {
      "cell_type": "code",
      "execution_count": 46,
      "id": "51951c3e",
      "metadata": {
        "id": "51951c3e"
      },
      "outputs": [],
      "source": [
        "faiss_index = faiss.IndexFlatL2(dim)"
      ]
    },
    {
      "cell_type": "code",
      "execution_count": 47,
      "id": "d4d16ff8",
      "metadata": {
        "id": "d4d16ff8"
      },
      "outputs": [],
      "source": [
        "faiss_index.add(doc_embeddings)"
      ]
    },
    {
      "cell_type": "code",
      "execution_count": 48,
      "id": "7e855420",
      "metadata": {
        "colab": {
          "base_uri": "https://localhost:8080/"
        },
        "id": "7e855420",
        "outputId": "f11fea6b-debc-46e3-d961-052241b65c43"
      },
      "outputs": [
        {
          "output_type": "execute_result",
          "data": {
            "text/plain": [
              "2"
            ]
          },
          "metadata": {},
          "execution_count": 48
        }
      ],
      "source": [
        "faiss_index.ntotal"
      ]
    },
    {
      "cell_type": "code",
      "execution_count": 49,
      "id": "c4010a5c",
      "metadata": {
        "colab": {
          "base_uri": "https://localhost:8080/"
        },
        "id": "c4010a5c",
        "outputId": "62b92191-3e1f-4f2a-8f63-973e01ee704b"
      },
      "outputs": [
        {
          "output_type": "execute_result",
          "data": {
            "text/plain": [
              "(array([[1.3029003, 2.0714622]], dtype=float32), array([[1, 0]]))"
            ]
          },
          "metadata": {},
          "execution_count": 49
        }
      ],
      "source": [
        "search_results = faiss_index.search(arr_emb_query, 2)\n",
        "search_results"
      ]
    },
    {
      "cell_type": "markdown",
      "source": [
        "Note that the L2 norm distances in the above nearest neighbors matches with that of L2 norms distance using FAISS with L2 index above."
      ],
      "metadata": {
        "id": "DaMxNcUK8pK_"
      },
      "id": "DaMxNcUK8pK_"
    },
    {
      "cell_type": "markdown",
      "id": "8bb35324",
      "metadata": {
        "id": "8bb35324"
      },
      "source": [
        "#### References\n",
        "* https://youtu.be/sKyvsdEv6rk\n",
        "* https://github.com/facebookresearch/faiss/blob/main/tutorial/python/1-Flat.py\n",
        "* https://github.com/facebookresearch/faiss/wiki/Guidelines-to-choose-an-index\n",
        "* https://github.com/facebookresearch/faiss/wiki/Getting-started\n",
        "* https://github.com/facebookresearch/faiss/wiki/MetricType-and-distances#how-can-i-index-vectors-for-cosine-similarity"
      ]
    }
  ],
  "metadata": {
    "kernelspec": {
      "display_name": "Python [conda env:apple_tensorflow] *",
      "language": "python",
      "name": "conda-env-apple_tensorflow-py"
    },
    "language_info": {
      "codemirror_mode": {
        "name": "ipython",
        "version": 3
      },
      "file_extension": ".py",
      "mimetype": "text/x-python",
      "name": "python",
      "nbconvert_exporter": "python",
      "pygments_lexer": "ipython3",
      "version": "3.9.10"
    },
    "colab": {
      "provenance": []
    }
  },
  "nbformat": 4,
  "nbformat_minor": 5
}